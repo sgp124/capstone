{
 "cells": [
  {
   "cell_type": "code",
   "execution_count": 3,
   "metadata": {},
   "outputs": [
    {
     "name": "stdout",
     "output_type": "stream",
     "text": [
      "--2020-06-11 13:03:36--  http://cocl.us/Geospatial_data\n",
      "Resolving cocl.us (cocl.us)... 158.85.108.83, 158.85.108.86, 169.48.113.194\n",
      "Connecting to cocl.us (cocl.us)|158.85.108.83|:80... connected.\n",
      "HTTP request sent, awaiting response... 301 Moved Permanently\n",
      "Location: https://cocl.us/Geospatial_data [following]\n",
      "--2020-06-11 13:03:36--  https://cocl.us/Geospatial_data\n",
      "Connecting to cocl.us (cocl.us)|158.85.108.83|:443... connected.\n",
      "HTTP request sent, awaiting response... 301 Moved Permanently\n",
      "Location: https://ibm.box.com/shared/static/9afzr83pps4pwf2smjjcf1y5mvgb18rr.csv [following]\n",
      "--2020-06-11 13:03:38--  https://ibm.box.com/shared/static/9afzr83pps4pwf2smjjcf1y5mvgb18rr.csv\n",
      "Resolving ibm.box.com (ibm.box.com)... 107.152.27.197\n",
      "Connecting to ibm.box.com (ibm.box.com)|107.152.27.197|:443... connected.\n",
      "HTTP request sent, awaiting response... 301 Moved Permanently\n",
      "Location: /public/static/9afzr83pps4pwf2smjjcf1y5mvgb18rr.csv [following]\n",
      "--2020-06-11 13:03:38--  https://ibm.box.com/public/static/9afzr83pps4pwf2smjjcf1y5mvgb18rr.csv\n",
      "Reusing existing connection to ibm.box.com:443.\n",
      "HTTP request sent, awaiting response... 301 Moved Permanently\n",
      "Location: https://ibm.ent.box.com/public/static/9afzr83pps4pwf2smjjcf1y5mvgb18rr.csv [following]\n",
      "--2020-06-11 13:03:39--  https://ibm.ent.box.com/public/static/9afzr83pps4pwf2smjjcf1y5mvgb18rr.csv\n",
      "Resolving ibm.ent.box.com (ibm.ent.box.com)... 107.152.29.201\n",
      "Connecting to ibm.ent.box.com (ibm.ent.box.com)|107.152.29.201|:443... connected.\n",
      "HTTP request sent, awaiting response... 302 Found\n",
      "Location: https://public.boxcloud.com/d/1/b1!utgLrWCqXtiI1n8B3rXR6uQrclypkYWpA0HaYR5wE0WVE1T0zmHbCkfcjneiTNWqHIrXfAae2o6FSHyLFn3-wrfOHqzd0cgr6v2kuwjXWWDCoQeGEEmuakpdefdMlqEWW1rHdvNW5s4afrEC9Yy8_fgv5boIjM6Aktmwhi16Jbh5CuQO3Xs8AbY_hRFaHfm3DYumkT7fKpnkeXnljfmuIpUaRcAUTy_PZgItfWFemxppfqJM4SQZMWcwpY_yUEKPEool1cd-8DCH63WBTei-UV4XN9QMAtq4_FXBGTZkIn5YAQoNuRYQ48uRpOdCQ61qG79_beksWRZfbqcMDDWWBX7vrovPrJXhmr7JagxXcqWCV9ZZ8Mo4HW3SD9ih1pBWA6nOUD-w08LI7vSvO_XdtLLctiKwwv5_NytHFUenCZtk3aIPZoj5RBM9KLpxRsVMCP7UJLLHYISakJj9OAkFYpvQfKMUm-rjY3mfORxv15PeG7GbO8Pk3y57y7Qf9tW2ZVJ6TIA6loLFXzCXEG3SF8diZrcRtq7fRCdyB7s8KThOWUgAC5HP4PH2r2Iyt7A2wCvkw5-k_O-WUAy02uexxb0Pzf1ejeMRwob4wBda7lG8d2IO6XzpLMNTW-Dq9tXSZtgZKycXNftw_z0Lpd7vSF3y7J1ouqPqclWvM0p017zAkPHAyTPZLKwwSyCgK5M7NIpFGTWh7uaW24ZyMShJDY4KpDO9qu8F6M80y43BwGb9Wsl4cEiNXctMC5G5iVROPgzt_-zuZIwYoP_a0fyS0zQnJ5xaBC6UvRurbZ_VJgQ3Wb2Iec93IGIZRurqhSK4_8HI703SWDE-U23__uR1UPEzUPXjIaUouWH5_pP2AlZHgVmVjbKl1ZLO-fGu4rrvCw9dpKZiTavhyk4FcY2W12hdx-KknHdqkUxMFPoulv_574IAGyQeg_iG6RT2l8rGN3reSfjjpNuUfycPKdg8MbTGufVBPS-aVOAu2Ygr6NsW0PgyYREi94_Uf7hio_q2ivs14fDd_kz64_dI0L4aN2VQgqPsjZLhvkbr695V1OtMbSsmUZYO2rlsUQKx1zEvvv80b-64z6jzq7bFj7EpZs_t2vaNfWmxdwZy-WEjpVPS0V37CIv4UGBczC__cJFhLydvara-fpfKxMN--UfMg1fcFCfkAb4VTXtMKRafHXUmgxghozUYpeGXj4scb7Xie2zNP7ZkRiNGWN52LG-ZRHZ7ldtOpqwpg7WhHyy8k-cs0PuUTVsmZZYf_xv9EbonCdIhTYtHnsVdmuhI1OCCh4JaQVq11FBx-psZ3QohYnlrpY_s8Dz5Ai3GUtcd2F5sSAPCLjW5YfBTT9IoTPEgzPwpQcQ5AFuHzh7GXm2m3j_IJvgYLj9HNm59SQmNTroQ2P6u-FppU0EGRU_FpM9xvb7LcMlqn20RzS7T30Yh2WE6/download [following]\n",
      "--2020-06-11 13:03:39--  https://public.boxcloud.com/d/1/b1!utgLrWCqXtiI1n8B3rXR6uQrclypkYWpA0HaYR5wE0WVE1T0zmHbCkfcjneiTNWqHIrXfAae2o6FSHyLFn3-wrfOHqzd0cgr6v2kuwjXWWDCoQeGEEmuakpdefdMlqEWW1rHdvNW5s4afrEC9Yy8_fgv5boIjM6Aktmwhi16Jbh5CuQO3Xs8AbY_hRFaHfm3DYumkT7fKpnkeXnljfmuIpUaRcAUTy_PZgItfWFemxppfqJM4SQZMWcwpY_yUEKPEool1cd-8DCH63WBTei-UV4XN9QMAtq4_FXBGTZkIn5YAQoNuRYQ48uRpOdCQ61qG79_beksWRZfbqcMDDWWBX7vrovPrJXhmr7JagxXcqWCV9ZZ8Mo4HW3SD9ih1pBWA6nOUD-w08LI7vSvO_XdtLLctiKwwv5_NytHFUenCZtk3aIPZoj5RBM9KLpxRsVMCP7UJLLHYISakJj9OAkFYpvQfKMUm-rjY3mfORxv15PeG7GbO8Pk3y57y7Qf9tW2ZVJ6TIA6loLFXzCXEG3SF8diZrcRtq7fRCdyB7s8KThOWUgAC5HP4PH2r2Iyt7A2wCvkw5-k_O-WUAy02uexxb0Pzf1ejeMRwob4wBda7lG8d2IO6XzpLMNTW-Dq9tXSZtgZKycXNftw_z0Lpd7vSF3y7J1ouqPqclWvM0p017zAkPHAyTPZLKwwSyCgK5M7NIpFGTWh7uaW24ZyMShJDY4KpDO9qu8F6M80y43BwGb9Wsl4cEiNXctMC5G5iVROPgzt_-zuZIwYoP_a0fyS0zQnJ5xaBC6UvRurbZ_VJgQ3Wb2Iec93IGIZRurqhSK4_8HI703SWDE-U23__uR1UPEzUPXjIaUouWH5_pP2AlZHgVmVjbKl1ZLO-fGu4rrvCw9dpKZiTavhyk4FcY2W12hdx-KknHdqkUxMFPoulv_574IAGyQeg_iG6RT2l8rGN3reSfjjpNuUfycPKdg8MbTGufVBPS-aVOAu2Ygr6NsW0PgyYREi94_Uf7hio_q2ivs14fDd_kz64_dI0L4aN2VQgqPsjZLhvkbr695V1OtMbSsmUZYO2rlsUQKx1zEvvv80b-64z6jzq7bFj7EpZs_t2vaNfWmxdwZy-WEjpVPS0V37CIv4UGBczC__cJFhLydvara-fpfKxMN--UfMg1fcFCfkAb4VTXtMKRafHXUmgxghozUYpeGXj4scb7Xie2zNP7ZkRiNGWN52LG-ZRHZ7ldtOpqwpg7WhHyy8k-cs0PuUTVsmZZYf_xv9EbonCdIhTYtHnsVdmuhI1OCCh4JaQVq11FBx-psZ3QohYnlrpY_s8Dz5Ai3GUtcd2F5sSAPCLjW5YfBTT9IoTPEgzPwpQcQ5AFuHzh7GXm2m3j_IJvgYLj9HNm59SQmNTroQ2P6u-FppU0EGRU_FpM9xvb7LcMlqn20RzS7T30Yh2WE6/download\n",
      "Resolving public.boxcloud.com (public.boxcloud.com)... 107.152.29.200\n",
      "Connecting to public.boxcloud.com (public.boxcloud.com)|107.152.29.200|:443... connected.\n",
      "HTTP request sent, awaiting response... 200 OK\n",
      "Length: 2891 (2.8K) [text/csv]\n",
      "Saving to: ‘t.csv’\n",
      "\n",
      "t.csv               100%[===================>]   2.82K  --.-KB/s    in 0s      \n",
      "\n",
      "2020-06-11 13:03:39 (8.11 MB/s) - ‘t.csv’ saved [2891/2891]\n",
      "\n"
     ]
    }
   ],
   "source": [
    "!wget -O t.csv http://cocl.us/Geospatial_data\n",
    "\n"
   ]
  },
  {
   "cell_type": "code",
   "execution_count": 17,
   "metadata": {},
   "outputs": [
    {
     "data": {
      "text/html": [
       "<div>\n",
       "<style scoped>\n",
       "    .dataframe tbody tr th:only-of-type {\n",
       "        vertical-align: middle;\n",
       "    }\n",
       "\n",
       "    .dataframe tbody tr th {\n",
       "        vertical-align: top;\n",
       "    }\n",
       "\n",
       "    .dataframe thead th {\n",
       "        text-align: right;\n",
       "    }\n",
       "</style>\n",
       "<table border=\"1\" class=\"dataframe\">\n",
       "  <thead>\n",
       "    <tr style=\"text-align: right;\">\n",
       "      <th></th>\n",
       "      <th>Postal Code</th>\n",
       "      <th>Latitude</th>\n",
       "      <th>Longitude</th>\n",
       "    </tr>\n",
       "  </thead>\n",
       "  <tbody>\n",
       "    <tr>\n",
       "      <th>0</th>\n",
       "      <td>M1B</td>\n",
       "      <td>43.806686</td>\n",
       "      <td>-79.194353</td>\n",
       "    </tr>\n",
       "    <tr>\n",
       "      <th>1</th>\n",
       "      <td>M1C</td>\n",
       "      <td>43.784535</td>\n",
       "      <td>-79.160497</td>\n",
       "    </tr>\n",
       "    <tr>\n",
       "      <th>2</th>\n",
       "      <td>M1E</td>\n",
       "      <td>43.763573</td>\n",
       "      <td>-79.188711</td>\n",
       "    </tr>\n",
       "    <tr>\n",
       "      <th>3</th>\n",
       "      <td>M1G</td>\n",
       "      <td>43.770992</td>\n",
       "      <td>-79.216917</td>\n",
       "    </tr>\n",
       "    <tr>\n",
       "      <th>4</th>\n",
       "      <td>M1H</td>\n",
       "      <td>43.773136</td>\n",
       "      <td>-79.239476</td>\n",
       "    </tr>\n",
       "  </tbody>\n",
       "</table>\n",
       "</div>"
      ],
      "text/plain": [
       "  Postal Code   Latitude  Longitude\n",
       "0         M1B  43.806686 -79.194353\n",
       "1         M1C  43.784535 -79.160497\n",
       "2         M1E  43.763573 -79.188711\n",
       "3         M1G  43.770992 -79.216917\n",
       "4         M1H  43.773136 -79.239476"
      ]
     },
     "execution_count": 17,
     "metadata": {},
     "output_type": "execute_result"
    }
   ],
   "source": [
    "import pandas as pd\n",
    "df = pd.read_csv('t.csv')\n",
    "df.head()"
   ]
  },
  {
   "cell_type": "code",
   "execution_count": 11,
   "metadata": {},
   "outputs": [
    {
     "name": "stdout",
     "output_type": "stream",
     "text": [
      "Collecting geocoder\n",
      "\u001b[?25l  Downloading https://files.pythonhosted.org/packages/4f/6b/13166c909ad2f2d76b929a4227c952630ebaf0d729f6317eb09cbceccbab/geocoder-1.38.1-py2.py3-none-any.whl (98kB)\n",
      "\u001b[K     |████████████████████████████████| 102kB 7.5MB/s ta 0:00:011\n",
      "\u001b[?25hCollecting click (from geocoder)\n",
      "\u001b[?25l  Downloading https://files.pythonhosted.org/packages/d2/3d/fa76db83bf75c4f8d338c2fd15c8d33fdd7ad23a9b5e57eb6c5de26b430e/click-7.1.2-py2.py3-none-any.whl (82kB)\n",
      "\u001b[K     |████████████████████████████████| 92kB 7.3MB/s eta 0:00:011\n",
      "\u001b[?25hRequirement already satisfied: requests in /home/jupyterlab/conda/envs/python/lib/python3.6/site-packages (from geocoder) (2.23.0)\n",
      "Collecting ratelim (from geocoder)\n",
      "  Downloading https://files.pythonhosted.org/packages/f2/98/7e6d147fd16a10a5f821db6e25f192265d6ecca3d82957a4fdd592cad49c/ratelim-0.1.6-py2.py3-none-any.whl\n",
      "Collecting future (from geocoder)\n",
      "\u001b[?25l  Downloading https://files.pythonhosted.org/packages/45/0b/38b06fd9b92dc2b68d58b75f900e97884c45bedd2ff83203d933cf5851c9/future-0.18.2.tar.gz (829kB)\n",
      "\u001b[K     |████████████████████████████████| 829kB 8.8MB/s eta 0:00:01\n",
      "\u001b[?25hRequirement already satisfied: six in /home/jupyterlab/conda/envs/python/lib/python3.6/site-packages (from geocoder) (1.14.0)\n",
      "Requirement already satisfied: certifi>=2017.4.17 in /home/jupyterlab/conda/envs/python/lib/python3.6/site-packages (from requests->geocoder) (2020.4.5.2)\n",
      "Requirement already satisfied: chardet<4,>=3.0.2 in /home/jupyterlab/conda/envs/python/lib/python3.6/site-packages (from requests->geocoder) (3.0.4)\n",
      "Requirement already satisfied: urllib3!=1.25.0,!=1.25.1,<1.26,>=1.21.1 in /home/jupyterlab/conda/envs/python/lib/python3.6/site-packages (from requests->geocoder) (1.25.9)\n",
      "Requirement already satisfied: idna<3,>=2.5 in /home/jupyterlab/conda/envs/python/lib/python3.6/site-packages (from requests->geocoder) (2.9)\n",
      "Requirement already satisfied: decorator in /home/jupyterlab/conda/envs/python/lib/python3.6/site-packages (from ratelim->geocoder) (4.4.2)\n",
      "Building wheels for collected packages: future\n",
      "  Building wheel for future (setup.py) ... \u001b[?25ldone\n",
      "\u001b[?25h  Stored in directory: /home/jupyterlab/.cache/pip/wheels/8b/99/a0/81daf51dcd359a9377b110a8a886b3895921802d2fc1b2397e\n",
      "Successfully built future\n",
      "Installing collected packages: click, ratelim, future, geocoder\n",
      "Successfully installed click-7.1.2 future-0.18.2 geocoder-1.38.1 ratelim-0.1.6\n"
     ]
    }
   ],
   "source": [
    "!pip install geocoder\n",
    "import geocoder"
   ]
  },
  {
   "cell_type": "code",
   "execution_count": 12,
   "metadata": {},
   "outputs": [
    {
     "data": {
      "text/plain": [
       "[43.70941386000004, -79.36309957799995]"
      ]
     },
     "execution_count": 12,
     "metadata": {},
     "output_type": "execute_result"
    }
   ],
   "source": [
    "def get_latlng(postal_code):\n",
    "    # initialize your variable to None\n",
    "    lat_lng_coords = None\n",
    "    # loop until you get the coordinates\n",
    "    while(lat_lng_coords is None):\n",
    "        g = geocoder.arcgis('{}, Toronto, Ontario'.format(postal_code))\n",
    "        lat_lng_coords = g.latlng\n",
    "    return lat_lng_coords\n",
    "    \n",
    "get_latlng('M4G')"
   ]
  },
  {
   "cell_type": "code",
   "execution_count": 19,
   "metadata": {},
   "outputs": [],
   "source": [
    "postal_codes = df['Postal Code']    \n",
    "coords = [ get_latlng(postal_code) for postal_code in postal_codes.tolist() ]"
   ]
  },
  {
   "cell_type": "code",
   "execution_count": 20,
   "metadata": {},
   "outputs": [
    {
     "data": {
      "text/html": [
       "<div>\n",
       "<style scoped>\n",
       "    .dataframe tbody tr th:only-of-type {\n",
       "        vertical-align: middle;\n",
       "    }\n",
       "\n",
       "    .dataframe tbody tr th {\n",
       "        vertical-align: top;\n",
       "    }\n",
       "\n",
       "    .dataframe thead th {\n",
       "        text-align: right;\n",
       "    }\n",
       "</style>\n",
       "<table border=\"1\" class=\"dataframe\">\n",
       "  <thead>\n",
       "    <tr style=\"text-align: right;\">\n",
       "      <th></th>\n",
       "      <th>Postal Code</th>\n",
       "      <th>Latitude</th>\n",
       "      <th>Longitude</th>\n",
       "    </tr>\n",
       "  </thead>\n",
       "  <tbody>\n",
       "    <tr>\n",
       "      <th>0</th>\n",
       "      <td>M1B</td>\n",
       "      <td>43.808626</td>\n",
       "      <td>-79.189913</td>\n",
       "    </tr>\n",
       "    <tr>\n",
       "      <th>1</th>\n",
       "      <td>M1C</td>\n",
       "      <td>43.785779</td>\n",
       "      <td>-79.157368</td>\n",
       "    </tr>\n",
       "    <tr>\n",
       "      <th>2</th>\n",
       "      <td>M1E</td>\n",
       "      <td>43.765806</td>\n",
       "      <td>-79.185284</td>\n",
       "    </tr>\n",
       "    <tr>\n",
       "      <th>3</th>\n",
       "      <td>M1G</td>\n",
       "      <td>43.771545</td>\n",
       "      <td>-79.218135</td>\n",
       "    </tr>\n",
       "    <tr>\n",
       "      <th>4</th>\n",
       "      <td>M1H</td>\n",
       "      <td>43.768791</td>\n",
       "      <td>-79.238813</td>\n",
       "    </tr>\n",
       "  </tbody>\n",
       "</table>\n",
       "</div>"
      ],
      "text/plain": [
       "  Postal Code   Latitude  Longitude\n",
       "0         M1B  43.808626 -79.189913\n",
       "1         M1C  43.785779 -79.157368\n",
       "2         M1E  43.765806 -79.185284\n",
       "3         M1G  43.771545 -79.218135\n",
       "4         M1H  43.768791 -79.238813"
      ]
     },
     "execution_count": 20,
     "metadata": {},
     "output_type": "execute_result"
    }
   ],
   "source": [
    "df_coords = pd.DataFrame(coords, columns=['Latitude', 'Longitude'])\n",
    "df['Latitude'] = df_coords['Latitude']\n",
    "df['Longitude'] = df_coords['Longitude']\n",
    "df.head()"
   ]
  },
  {
   "cell_type": "code",
   "execution_count": 22,
   "metadata": {},
   "outputs": [],
   "source": [
    "df.to_csv('task2.csv', index=False)"
   ]
  },
  {
   "cell_type": "code",
   "execution_count": 23,
   "metadata": {},
   "outputs": [
    {
     "data": {
      "text/html": [
       "<div>\n",
       "<style scoped>\n",
       "    .dataframe tbody tr th:only-of-type {\n",
       "        vertical-align: middle;\n",
       "    }\n",
       "\n",
       "    .dataframe tbody tr th {\n",
       "        vertical-align: top;\n",
       "    }\n",
       "\n",
       "    .dataframe thead th {\n",
       "        text-align: right;\n",
       "    }\n",
       "</style>\n",
       "<table border=\"1\" class=\"dataframe\">\n",
       "  <thead>\n",
       "    <tr style=\"text-align: right;\">\n",
       "      <th></th>\n",
       "      <th>Postal Code</th>\n",
       "      <th>Latitude</th>\n",
       "      <th>Longitude</th>\n",
       "    </tr>\n",
       "  </thead>\n",
       "  <tbody>\n",
       "    <tr>\n",
       "      <th>0</th>\n",
       "      <td>M1B</td>\n",
       "      <td>43.808626</td>\n",
       "      <td>-79.189913</td>\n",
       "    </tr>\n",
       "    <tr>\n",
       "      <th>1</th>\n",
       "      <td>M1C</td>\n",
       "      <td>43.785779</td>\n",
       "      <td>-79.157368</td>\n",
       "    </tr>\n",
       "    <tr>\n",
       "      <th>2</th>\n",
       "      <td>M1E</td>\n",
       "      <td>43.765806</td>\n",
       "      <td>-79.185284</td>\n",
       "    </tr>\n",
       "    <tr>\n",
       "      <th>3</th>\n",
       "      <td>M1G</td>\n",
       "      <td>43.771545</td>\n",
       "      <td>-79.218135</td>\n",
       "    </tr>\n",
       "    <tr>\n",
       "      <th>4</th>\n",
       "      <td>M1H</td>\n",
       "      <td>43.768791</td>\n",
       "      <td>-79.238813</td>\n",
       "    </tr>\n",
       "    <tr>\n",
       "      <th>...</th>\n",
       "      <td>...</td>\n",
       "      <td>...</td>\n",
       "      <td>...</td>\n",
       "    </tr>\n",
       "    <tr>\n",
       "      <th>98</th>\n",
       "      <td>M9N</td>\n",
       "      <td>43.705496</td>\n",
       "      <td>-79.520370</td>\n",
       "    </tr>\n",
       "    <tr>\n",
       "      <th>99</th>\n",
       "      <td>M9P</td>\n",
       "      <td>43.696296</td>\n",
       "      <td>-79.533126</td>\n",
       "    </tr>\n",
       "    <tr>\n",
       "      <th>100</th>\n",
       "      <td>M9R</td>\n",
       "      <td>43.686887</td>\n",
       "      <td>-79.565507</td>\n",
       "    </tr>\n",
       "    <tr>\n",
       "      <th>101</th>\n",
       "      <td>M9V</td>\n",
       "      <td>43.744055</td>\n",
       "      <td>-79.581203</td>\n",
       "    </tr>\n",
       "    <tr>\n",
       "      <th>102</th>\n",
       "      <td>M9W</td>\n",
       "      <td>43.711615</td>\n",
       "      <td>-79.588351</td>\n",
       "    </tr>\n",
       "  </tbody>\n",
       "</table>\n",
       "<p>103 rows × 3 columns</p>\n",
       "</div>"
      ],
      "text/plain": [
       "    Postal Code   Latitude  Longitude\n",
       "0           M1B  43.808626 -79.189913\n",
       "1           M1C  43.785779 -79.157368\n",
       "2           M1E  43.765806 -79.185284\n",
       "3           M1G  43.771545 -79.218135\n",
       "4           M1H  43.768791 -79.238813\n",
       "..          ...        ...        ...\n",
       "98          M9N  43.705496 -79.520370\n",
       "99          M9P  43.696296 -79.533126\n",
       "100         M9R  43.686887 -79.565507\n",
       "101         M9V  43.744055 -79.581203\n",
       "102         M9W  43.711615 -79.588351\n",
       "\n",
       "[103 rows x 3 columns]"
      ]
     },
     "execution_count": 23,
     "metadata": {},
     "output_type": "execute_result"
    }
   ],
   "source": [
    "df"
   ]
  },
  {
   "cell_type": "code",
   "execution_count": null,
   "metadata": {},
   "outputs": [],
   "source": []
  }
 ],
 "metadata": {
  "kernelspec": {
   "display_name": "Python",
   "language": "python",
   "name": "conda-env-python-py"
  },
  "language_info": {
   "codemirror_mode": {
    "name": "ipython",
    "version": 3
   },
   "file_extension": ".py",
   "mimetype": "text/x-python",
   "name": "python",
   "nbconvert_exporter": "python",
   "pygments_lexer": "ipython3",
   "version": "3.6.10"
  }
 },
 "nbformat": 4,
 "nbformat_minor": 4
}
